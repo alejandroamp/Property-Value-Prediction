{
 "cells": [
  {
   "cell_type": "code",
   "execution_count": 2,
   "metadata": {},
   "outputs": [
    {
     "name": "stdout",
     "output_type": "stream",
     "text": [
      "Ridge Regression\n",
      "Training MSE: 1216804163.1211984\n",
      "Training R^2: 0.7953485468756732\n",
      "Test MSE: 1441444275.2463033\n",
      "Test R^2: 0.8202138250163101\n"
     ]
    },
    {
     "data": {
      "text/plain": [
       "['ridge_regression_model.pkl']"
      ]
     },
     "execution_count": 2,
     "metadata": {},
     "output_type": "execute_result"
    }
   ],
   "source": [
    "# Import necessary libraries\n",
    "import numpy as np\n",
    "from sklearn.linear_model import Ridge\n",
    "from sklearn.metrics import mean_squared_error, r2_score\n",
    "import joblib\n",
    "\n",
    "# Load the data\n",
    "X_train_scaled = np.load('../notebooks/X_train_scaled.npy')\n",
    "y_train = np.load('../notebooks/y_train.npy')\n",
    "X_test_scaled = np.load('../notebooks/X_test_scaled.npy')\n",
    "y_test = np.load('../notebooks/y_test.npy')\n",
    "\n",
    "# Create the Ridge Regression model\n",
    "ridge_reg = Ridge(alpha=1.0)\n",
    "\n",
    "# Train the model\n",
    "ridge_reg.fit(X_train_scaled, y_train)\n",
    "\n",
    "# Make predictions\n",
    "y_pred_train = ridge_reg.predict(X_train_scaled)\n",
    "y_pred_test = ridge_reg.predict(X_test_scaled)\n",
    "\n",
    "# Evaluate the model\n",
    "print(\"Ridge Regression\")\n",
    "print(\"Training MSE:\", mean_squared_error(y_train, y_pred_train))\n",
    "print(\"Training R^2:\", r2_score(y_train, y_pred_train))\n",
    "print(\"Test MSE:\", mean_squared_error(y_test, y_pred_test))\n",
    "print(\"Test R^2:\", r2_score(y_test, y_pred_test))\n",
    "\n",
    "# Save the model\n",
    "joblib.dump(ridge_reg, 'ridge_regression_model.pkl')\n"
   ]
  }
 ],
 "metadata": {
  "kernelspec": {
   "display_name": "env",
   "language": "python",
   "name": "python3"
  },
  "language_info": {
   "codemirror_mode": {
    "name": "ipython",
    "version": 3
   },
   "file_extension": ".py",
   "mimetype": "text/x-python",
   "name": "python",
   "nbconvert_exporter": "python",
   "pygments_lexer": "ipython3",
   "version": "3.8.0"
  }
 },
 "nbformat": 4,
 "nbformat_minor": 2
}
