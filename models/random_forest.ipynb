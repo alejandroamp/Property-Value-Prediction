{
 "cells": [
  {
   "cell_type": "code",
   "execution_count": 1,
   "metadata": {},
   "outputs": [
    {
     "name": "stdout",
     "output_type": "stream",
     "text": [
      "Random Forest\n",
      "Training MSE: 121079468.96872883\n",
      "Training R^2: 0.9796359266191103\n",
      "Test MSE: 1018289709.7609797\n",
      "Test R^2: 0.8729923764053273\n"
     ]
    },
    {
     "data": {
      "text/plain": [
       "['random_forest_model.pkl']"
      ]
     },
     "execution_count": 1,
     "metadata": {},
     "output_type": "execute_result"
    }
   ],
   "source": [
    "# Import necessary libraries\n",
    "import numpy as np\n",
    "from sklearn.ensemble import RandomForestRegressor\n",
    "from sklearn.metrics import mean_squared_error, r2_score\n",
    "import joblib\n",
    "\n",
    "# Load the data\n",
    "X_train_scaled = np.load('../notebooks/X_train_scaled.npy')\n",
    "y_train = np.load('../notebooks/y_train.npy')\n",
    "X_test_scaled = np.load('../notebooks/X_test_scaled.npy')\n",
    "y_test = np.load('../notebooks/y_test.npy')\n",
    "\n",
    "# Create the Random Forest Regressor model\n",
    "rf_reg = RandomForestRegressor(n_estimators=100, random_state=42)\n",
    "\n",
    "# Train the model\n",
    "rf_reg.fit(X_train_scaled, y_train)\n",
    "\n",
    "# Make predictions\n",
    "y_pred_train = rf_reg.predict(X_train_scaled)\n",
    "y_pred_test = rf_reg.predict(X_test_scaled)\n",
    "\n",
    "# Evaluate the model\n",
    "print(\"Random Forest\")\n",
    "print(\"Training MSE:\", mean_squared_error(y_train, y_pred_train))\n",
    "print(\"Training R^2:\", r2_score(y_train, y_pred_train))\n",
    "print(\"Test MSE:\", mean_squared_error(y_test, y_pred_test))\n",
    "print(\"Test R^2:\", r2_score(y_test, y_pred_test))\n",
    "\n",
    "# Save the model\n",
    "joblib.dump(rf_reg, 'random_forest_model.pkl')\n"
   ]
  }
 ],
 "metadata": {
  "kernelspec": {
   "display_name": "env",
   "language": "python",
   "name": "python3"
  },
  "language_info": {
   "codemirror_mode": {
    "name": "ipython",
    "version": 3
   },
   "file_extension": ".py",
   "mimetype": "text/x-python",
   "name": "python",
   "nbconvert_exporter": "python",
   "pygments_lexer": "ipython3",
   "version": "3.8.0"
  }
 },
 "nbformat": 4,
 "nbformat_minor": 2
}
