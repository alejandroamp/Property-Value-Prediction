{
 "cells": [
  {
   "cell_type": "code",
   "execution_count": 15,
   "metadata": {},
   "outputs": [
    {
     "name": "stdout",
     "output_type": "stream",
     "text": [
      "Connected to Azure ML Workspace: PropertyValueWorkspace\n",
      "Uploading an estimated of 4 files\n",
      "Uploading y_train.npy\n",
      "Uploaded y_train.npy, 1 files out of an estimated total of 4\n",
      "Uploading y_test.npy\n",
      "Uploaded y_test.npy, 2 files out of an estimated total of 4\n",
      "Uploading X_train_scaled.npy\n",
      "Uploaded X_train_scaled.npy, 3 files out of an estimated total of 4\n",
      "Uploading X_test_scaled.npy\n",
      "Uploaded X_test_scaled.npy, 4 files out of an estimated total of 4\n",
      "Uploaded 4 files\n",
      "Dataset created\n"
     ]
    },
    {
     "ename": "ReaderError",
     "evalue": "unacceptable character #x0000: special characters are not allowed\n  in \"xgboost-env.yml\", position 3",
     "output_type": "error",
     "traceback": [
      "\u001b[1;31m---------------------------------------------------------------------------\u001b[0m",
      "\u001b[1;31mReaderError\u001b[0m                               Traceback (most recent call last)",
      "Cell \u001b[1;32mIn[15], line 26\u001b[0m\n\u001b[0;32m     23\u001b[0m \u001b[38;5;28mprint\u001b[39m(\u001b[38;5;124m\"\u001b[39m\u001b[38;5;124mDataset created\u001b[39m\u001b[38;5;124m\"\u001b[39m)\n\u001b[0;32m     25\u001b[0m \u001b[38;5;66;03m# Define the environment\u001b[39;00m\n\u001b[1;32m---> 26\u001b[0m env \u001b[38;5;241m=\u001b[39m \u001b[43mEnvironment\u001b[49m\u001b[38;5;241;43m.\u001b[39;49m\u001b[43mfrom_conda_specification\u001b[49m\u001b[43m(\u001b[49m\u001b[43mname\u001b[49m\u001b[38;5;241;43m=\u001b[39;49m\u001b[38;5;124;43m\"\u001b[39;49m\u001b[38;5;124;43mxgboost\u001b[39;49m\u001b[38;5;124;43m\"\u001b[39;49m\u001b[43m,\u001b[49m\u001b[43m \u001b[49m\u001b[43mfile_path\u001b[49m\u001b[38;5;241;43m=\u001b[39;49m\u001b[38;5;124;43m\"\u001b[39;49m\u001b[38;5;124;43mxgboost-env.yml\u001b[39;49m\u001b[38;5;124;43m\"\u001b[39;49m\u001b[43m)\u001b[49m\n\u001b[0;32m     27\u001b[0m \u001b[38;5;66;03m#env.python.user_managed_dependencies = True \u001b[39;00m\n\u001b[0;32m     28\u001b[0m \n\u001b[0;32m     29\u001b[0m \u001b[38;5;66;03m# Define the script configuration\u001b[39;00m\n\u001b[0;32m     30\u001b[0m src \u001b[38;5;241m=\u001b[39m ScriptRunConfig(\n\u001b[0;32m     31\u001b[0m     source_directory\u001b[38;5;241m=\u001b[39m\u001b[38;5;124m'\u001b[39m\u001b[38;5;124m../scripts\u001b[39m\u001b[38;5;124m'\u001b[39m,\n\u001b[0;32m     32\u001b[0m     script\u001b[38;5;241m=\u001b[39m\u001b[38;5;124m'\u001b[39m\u001b[38;5;124mtrain_xgboost.py\u001b[39m\u001b[38;5;124m'\u001b[39m,\n\u001b[0;32m     33\u001b[0m     compute_target\u001b[38;5;241m=\u001b[39m\u001b[38;5;28;01mNone\u001b[39;00m,\n\u001b[0;32m     34\u001b[0m     environment\u001b[38;5;241m=\u001b[39menv\n\u001b[0;32m     35\u001b[0m )\n",
      "File \u001b[1;32mc:\\Users\\Marketing\\.conda\\envs\\xgboost-env\\lib\\site-packages\\azureml\\core\\environment.py:1302\u001b[0m, in \u001b[0;36mEnvironment.from_conda_specification\u001b[1;34m(name, file_path)\u001b[0m\n\u001b[0;32m   1287\u001b[0m \u001b[38;5;129m@staticmethod\u001b[39m\n\u001b[0;32m   1288\u001b[0m \u001b[38;5;28;01mdef\u001b[39;00m \u001b[38;5;21mfrom_conda_specification\u001b[39m(name, file_path):\n\u001b[0;32m   1289\u001b[0m \u001b[38;5;250m    \u001b[39m\u001b[38;5;124;03m\"\"\"Create environment object from an environment specification YAML file.\u001b[39;00m\n\u001b[0;32m   1290\u001b[0m \n\u001b[0;32m   1291\u001b[0m \u001b[38;5;124;03m    To get an environment specification YAML file, see `Managing environments\u001b[39;00m\n\u001b[1;32m   (...)\u001b[0m\n\u001b[0;32m   1300\u001b[0m \u001b[38;5;124;03m    :rtype: azureml.core.environment.Environment\u001b[39;00m\n\u001b[0;32m   1301\u001b[0m \u001b[38;5;124;03m    \"\"\"\u001b[39;00m  \u001b[38;5;66;03m# noqa: E501\u001b[39;00m\n\u001b[1;32m-> 1302\u001b[0m     conda_dependencies \u001b[38;5;241m=\u001b[39m \u001b[43mCondaDependencies\u001b[49m\u001b[43m(\u001b[49m\u001b[43mconda_dependencies_file_path\u001b[49m\u001b[38;5;241;43m=\u001b[39;49m\u001b[43mfile_path\u001b[49m\u001b[43m)\u001b[49m\n\u001b[0;32m   1303\u001b[0m     \u001b[38;5;28;01mif\u001b[39;00m \u001b[38;5;129;01mnot\u001b[39;00m conda_dependencies\u001b[38;5;241m.\u001b[39m_python_version:\n\u001b[0;32m   1304\u001b[0m         module_logger\u001b[38;5;241m.\u001b[39mwarning(\u001b[38;5;124m'\u001b[39m\u001b[38;5;124mNo Python version provided, defaulting to \u001b[39m\u001b[38;5;124m\"\u001b[39m\u001b[38;5;132;01m{}\u001b[39;00m\u001b[38;5;124m\"\u001b[39m\u001b[38;5;124m'\u001b[39m\u001b[38;5;241m.\u001b[39mformat(PYTHON_DEFAULT_VERSION))\n",
      "File \u001b[1;32mc:\\Users\\Marketing\\.conda\\envs\\xgboost-env\\lib\\site-packages\\azureml\\core\\conda_dependencies.py:131\u001b[0m, in \u001b[0;36mCondaDependencies.__init__\u001b[1;34m(self, conda_dependencies_file_path, _underlying_structure)\u001b[0m\n\u001b[0;32m    129\u001b[0m     conda_dependencies_file_path \u001b[38;5;241m=\u001b[39m os\u001b[38;5;241m.\u001b[39mpath\u001b[38;5;241m.\u001b[39mnormpath(conda_dependencies_file_path)\n\u001b[0;32m    130\u001b[0m     \u001b[38;5;28;01mwith\u001b[39;00m \u001b[38;5;28mopen\u001b[39m(conda_dependencies_file_path, \u001b[38;5;124m\"\u001b[39m\u001b[38;5;124mr\u001b[39m\u001b[38;5;124m\"\u001b[39m) \u001b[38;5;28;01mas\u001b[39;00m \u001b[38;5;28minput\u001b[39m:\n\u001b[1;32m--> 131\u001b[0m         \u001b[38;5;28mself\u001b[39m\u001b[38;5;241m.\u001b[39m_conda_dependencies \u001b[38;5;241m=\u001b[39m \u001b[43mruamelyaml\u001b[49m\u001b[38;5;241;43m.\u001b[39;49m\u001b[43mround_trip_load\u001b[49m\u001b[43m(\u001b[49m\u001b[38;5;28;43minput\u001b[39;49m\u001b[43m)\u001b[49m\n\u001b[0;32m    132\u001b[0m \u001b[38;5;28;01melif\u001b[39;00m _underlying_structure \u001b[38;5;129;01mis\u001b[39;00m \u001b[38;5;129;01mnot\u001b[39;00m \u001b[38;5;28;01mNone\u001b[39;00m:\n\u001b[0;32m    133\u001b[0m     \u001b[38;5;28mself\u001b[39m\u001b[38;5;241m.\u001b[39m_conda_dependencies \u001b[38;5;241m=\u001b[39m _underlying_structure\n",
      "File \u001b[1;32mc:\\Users\\Marketing\\.conda\\envs\\xgboost-env\\lib\\site-packages\\azureml\\_vendor\\ruamel\\yaml\\main.py:1140\u001b[0m, in \u001b[0;36mround_trip_load\u001b[1;34m(stream, version, preserve_quotes)\u001b[0m\n\u001b[0;32m   1134\u001b[0m \u001b[38;5;250m\u001b[39m\u001b[38;5;124;03m\"\"\"\u001b[39;00m\n\u001b[0;32m   1135\u001b[0m \u001b[38;5;124;03mParse the first YAML document in a stream\u001b[39;00m\n\u001b[0;32m   1136\u001b[0m \u001b[38;5;124;03mand produce the corresponding Python object.\u001b[39;00m\n\u001b[0;32m   1137\u001b[0m \u001b[38;5;124;03mResolve only basic YAML tags.\u001b[39;00m\n\u001b[0;32m   1138\u001b[0m \u001b[38;5;124;03m\"\"\"\u001b[39;00m\n\u001b[0;32m   1139\u001b[0m warn_deprecation(\u001b[38;5;124m'\u001b[39m\u001b[38;5;124mround_trip_load_all\u001b[39m\u001b[38;5;124m'\u001b[39m, \u001b[38;5;124m'\u001b[39m\u001b[38;5;124mload\u001b[39m\u001b[38;5;124m'\u001b[39m)\n\u001b[1;32m-> 1140\u001b[0m \u001b[38;5;28;01mreturn\u001b[39;00m \u001b[43mload\u001b[49m\u001b[43m(\u001b[49m\u001b[43mstream\u001b[49m\u001b[43m,\u001b[49m\u001b[43m \u001b[49m\u001b[43mRoundTripLoader\u001b[49m\u001b[43m,\u001b[49m\u001b[43m \u001b[49m\u001b[43mversion\u001b[49m\u001b[43m,\u001b[49m\u001b[43m \u001b[49m\u001b[43mpreserve_quotes\u001b[49m\u001b[38;5;241;43m=\u001b[39;49m\u001b[43mpreserve_quotes\u001b[49m\u001b[43m)\u001b[49m\n",
      "File \u001b[1;32mc:\\Users\\Marketing\\.conda\\envs\\xgboost-env\\lib\\site-packages\\azureml\\_vendor\\ruamel\\yaml\\main.py:1069\u001b[0m, in \u001b[0;36mload\u001b[1;34m(stream, Loader, version, preserve_quotes)\u001b[0m\n\u001b[0;32m   1067\u001b[0m     warnings\u001b[38;5;241m.\u001b[39mwarn(UnsafeLoaderWarning\u001b[38;5;241m.\u001b[39mtext, UnsafeLoaderWarning, stacklevel\u001b[38;5;241m=\u001b[39m\u001b[38;5;241m2\u001b[39m)\n\u001b[0;32m   1068\u001b[0m     Loader \u001b[38;5;241m=\u001b[39m UnsafeLoader\n\u001b[1;32m-> 1069\u001b[0m loader \u001b[38;5;241m=\u001b[39m \u001b[43mLoader\u001b[49m\u001b[43m(\u001b[49m\u001b[43mstream\u001b[49m\u001b[43m,\u001b[49m\u001b[43m \u001b[49m\u001b[43mversion\u001b[49m\u001b[43m,\u001b[49m\u001b[43m \u001b[49m\u001b[43mpreserve_quotes\u001b[49m\u001b[38;5;241;43m=\u001b[39;49m\u001b[43mpreserve_quotes\u001b[49m\u001b[43m)\u001b[49m  \u001b[38;5;66;03m# type: Any\u001b[39;00m\n\u001b[0;32m   1070\u001b[0m \u001b[38;5;28;01mtry\u001b[39;00m:\n\u001b[0;32m   1071\u001b[0m     \u001b[38;5;28;01mreturn\u001b[39;00m loader\u001b[38;5;241m.\u001b[39m_constructor\u001b[38;5;241m.\u001b[39mget_single_data()\n",
      "File \u001b[1;32mc:\\Users\\Marketing\\.conda\\envs\\xgboost-env\\lib\\site-packages\\azureml\\_vendor\\ruamel\\yaml\\loader.py:70\u001b[0m, in \u001b[0;36mRoundTripLoader.__init__\u001b[1;34m(self, stream, version, preserve_quotes)\u001b[0m\n\u001b[0;32m     66\u001b[0m \u001b[38;5;28;01mdef\u001b[39;00m \u001b[38;5;21m__init__\u001b[39m(\u001b[38;5;28mself\u001b[39m, stream, version\u001b[38;5;241m=\u001b[39m\u001b[38;5;28;01mNone\u001b[39;00m, preserve_quotes\u001b[38;5;241m=\u001b[39m\u001b[38;5;28;01mNone\u001b[39;00m):\n\u001b[0;32m     67\u001b[0m     \u001b[38;5;66;03m# type: (StreamTextType, Optional[VersionType], Optional[bool]) -> None\u001b[39;00m\n\u001b[0;32m     68\u001b[0m     \u001b[38;5;66;03m# self.reader = Reader.__init__(self, stream)\u001b[39;00m\n\u001b[0;32m     69\u001b[0m     \u001b[38;5;28mself\u001b[39m\u001b[38;5;241m.\u001b[39mcomment_handling \u001b[38;5;241m=\u001b[39m \u001b[38;5;28;01mNone\u001b[39;00m  \u001b[38;5;66;03m# issue 385\u001b[39;00m\n\u001b[1;32m---> 70\u001b[0m     \u001b[43mReader\u001b[49m\u001b[38;5;241;43m.\u001b[39;49m\u001b[38;5;21;43m__init__\u001b[39;49m\u001b[43m(\u001b[49m\u001b[38;5;28;43mself\u001b[39;49m\u001b[43m,\u001b[49m\u001b[43m \u001b[49m\u001b[43mstream\u001b[49m\u001b[43m,\u001b[49m\u001b[43m \u001b[49m\u001b[43mloader\u001b[49m\u001b[38;5;241;43m=\u001b[39;49m\u001b[38;5;28;43mself\u001b[39;49m\u001b[43m)\u001b[49m\n\u001b[0;32m     71\u001b[0m     RoundTripScanner\u001b[38;5;241m.\u001b[39m\u001b[38;5;21m__init__\u001b[39m(\u001b[38;5;28mself\u001b[39m, loader\u001b[38;5;241m=\u001b[39m\u001b[38;5;28mself\u001b[39m)\n\u001b[0;32m     72\u001b[0m     RoundTripParser\u001b[38;5;241m.\u001b[39m\u001b[38;5;21m__init__\u001b[39m(\u001b[38;5;28mself\u001b[39m, loader\u001b[38;5;241m=\u001b[39m\u001b[38;5;28mself\u001b[39m)\n",
      "File \u001b[1;32mc:\\Users\\Marketing\\.conda\\envs\\xgboost-env\\lib\\site-packages\\azureml\\_vendor\\ruamel\\yaml\\reader.py:88\u001b[0m, in \u001b[0;36mReader.__init__\u001b[1;34m(self, stream, loader)\u001b[0m\n\u001b[0;32m     86\u001b[0m     \u001b[38;5;28mself\u001b[39m\u001b[38;5;241m.\u001b[39mloader\u001b[38;5;241m.\u001b[39m_reader \u001b[38;5;241m=\u001b[39m \u001b[38;5;28mself\u001b[39m\n\u001b[0;32m     87\u001b[0m \u001b[38;5;28mself\u001b[39m\u001b[38;5;241m.\u001b[39mreset_reader()\n\u001b[1;32m---> 88\u001b[0m \u001b[38;5;28;43mself\u001b[39;49m\u001b[38;5;241;43m.\u001b[39;49m\u001b[43mstream\u001b[49m \u001b[38;5;241m=\u001b[39m stream\n",
      "File \u001b[1;32mc:\\Users\\Marketing\\.conda\\envs\\xgboost-env\\lib\\site-packages\\azureml\\_vendor\\ruamel\\yaml\\reader.py:133\u001b[0m, in \u001b[0;36mReader.stream\u001b[1;34m(self, val)\u001b[0m\n\u001b[0;32m    131\u001b[0m \u001b[38;5;28mself\u001b[39m\u001b[38;5;241m.\u001b[39meof \u001b[38;5;241m=\u001b[39m \u001b[38;5;28;01mFalse\u001b[39;00m\n\u001b[0;32m    132\u001b[0m \u001b[38;5;28mself\u001b[39m\u001b[38;5;241m.\u001b[39mraw_buffer \u001b[38;5;241m=\u001b[39m \u001b[38;5;28;01mNone\u001b[39;00m\n\u001b[1;32m--> 133\u001b[0m \u001b[38;5;28;43mself\u001b[39;49m\u001b[38;5;241;43m.\u001b[39;49m\u001b[43mdetermine_encoding\u001b[49m\u001b[43m(\u001b[49m\u001b[43m)\u001b[49m\n",
      "File \u001b[1;32mc:\\Users\\Marketing\\.conda\\envs\\xgboost-env\\lib\\site-packages\\azureml\\_vendor\\ruamel\\yaml\\reader.py:204\u001b[0m, in \u001b[0;36mReader.determine_encoding\u001b[1;34m(self)\u001b[0m\n\u001b[0;32m    202\u001b[0m         \u001b[38;5;28mself\u001b[39m\u001b[38;5;241m.\u001b[39mraw_decode \u001b[38;5;241m=\u001b[39m codecs\u001b[38;5;241m.\u001b[39mutf_8_decode  \u001b[38;5;66;03m# type: ignore\u001b[39;00m\n\u001b[0;32m    203\u001b[0m         \u001b[38;5;28mself\u001b[39m\u001b[38;5;241m.\u001b[39mencoding \u001b[38;5;241m=\u001b[39m \u001b[38;5;124m'\u001b[39m\u001b[38;5;124mutf-8\u001b[39m\u001b[38;5;124m'\u001b[39m\n\u001b[1;32m--> 204\u001b[0m \u001b[38;5;28;43mself\u001b[39;49m\u001b[38;5;241;43m.\u001b[39;49m\u001b[43mupdate\u001b[49m\u001b[43m(\u001b[49m\u001b[38;5;241;43m1\u001b[39;49m\u001b[43m)\u001b[49m\n",
      "File \u001b[1;32mc:\\Users\\Marketing\\.conda\\envs\\xgboost-env\\lib\\site-packages\\azureml\\_vendor\\ruamel\\yaml\\reader.py:276\u001b[0m, in \u001b[0;36mReader.update\u001b[1;34m(self, length)\u001b[0m\n\u001b[0;32m    274\u001b[0m     data \u001b[38;5;241m=\u001b[39m \u001b[38;5;28mself\u001b[39m\u001b[38;5;241m.\u001b[39mraw_buffer\n\u001b[0;32m    275\u001b[0m     converted \u001b[38;5;241m=\u001b[39m \u001b[38;5;28mlen\u001b[39m(data)\n\u001b[1;32m--> 276\u001b[0m \u001b[38;5;28;43mself\u001b[39;49m\u001b[38;5;241;43m.\u001b[39;49m\u001b[43mcheck_printable\u001b[49m\u001b[43m(\u001b[49m\u001b[43mdata\u001b[49m\u001b[43m)\u001b[49m\n\u001b[0;32m    277\u001b[0m \u001b[38;5;28mself\u001b[39m\u001b[38;5;241m.\u001b[39mbuffer \u001b[38;5;241m+\u001b[39m\u001b[38;5;241m=\u001b[39m data\n\u001b[0;32m    278\u001b[0m \u001b[38;5;28mself\u001b[39m\u001b[38;5;241m.\u001b[39mraw_buffer \u001b[38;5;241m=\u001b[39m \u001b[38;5;28mself\u001b[39m\u001b[38;5;241m.\u001b[39mraw_buffer[converted:]\n",
      "File \u001b[1;32mc:\\Users\\Marketing\\.conda\\envs\\xgboost-env\\lib\\site-packages\\azureml\\_vendor\\ruamel\\yaml\\reader.py:244\u001b[0m, in \u001b[0;36mReader.check_printable\u001b[1;34m(self, data)\u001b[0m\n\u001b[0;32m    242\u001b[0m start, character \u001b[38;5;241m=\u001b[39m non_printable_match\n\u001b[0;32m    243\u001b[0m position \u001b[38;5;241m=\u001b[39m \u001b[38;5;28mself\u001b[39m\u001b[38;5;241m.\u001b[39mindex \u001b[38;5;241m+\u001b[39m (\u001b[38;5;28mlen\u001b[39m(\u001b[38;5;28mself\u001b[39m\u001b[38;5;241m.\u001b[39mbuffer) \u001b[38;5;241m-\u001b[39m \u001b[38;5;28mself\u001b[39m\u001b[38;5;241m.\u001b[39mpointer) \u001b[38;5;241m+\u001b[39m start\n\u001b[1;32m--> 244\u001b[0m \u001b[38;5;28;01mraise\u001b[39;00m ReaderError(\n\u001b[0;32m    245\u001b[0m     \u001b[38;5;28mself\u001b[39m\u001b[38;5;241m.\u001b[39mname,\n\u001b[0;32m    246\u001b[0m     position,\n\u001b[0;32m    247\u001b[0m     \u001b[38;5;28mord\u001b[39m(character),\n\u001b[0;32m    248\u001b[0m     \u001b[38;5;124m'\u001b[39m\u001b[38;5;124municode\u001b[39m\u001b[38;5;124m'\u001b[39m,\n\u001b[0;32m    249\u001b[0m     \u001b[38;5;124m'\u001b[39m\u001b[38;5;124mspecial characters are not allowed\u001b[39m\u001b[38;5;124m'\u001b[39m,\n\u001b[0;32m    250\u001b[0m )\n",
      "\u001b[1;31mReaderError\u001b[0m: unacceptable character #x0000: special characters are not allowed\n  in \"xgboost-env.yml\", position 3"
     ]
    }
   ],
   "source": [
    "# Import necessary libraries\n",
    "from azureml.core import Workspace, Dataset, Experiment, Environment, ScriptRunConfig\n",
    "from azureml.core.compute import ComputeTarget\n",
    "from azureml.core.compute_target import ComputeTargetException\n",
    "from azureml.widgets import RunDetails\n",
    "\n",
    "# Connect to Azure ML Workspace\n",
    "ws = Workspace.from_config()\n",
    "print(f'Connected to Azure ML Workspace: {ws.name}')\n",
    "\n",
    "# Get the default datastore\n",
    "datastore = ws.get_default_datastore()\n",
    "\n",
    "# Upload files to datastore\n",
    "datastore.upload_files(\n",
    "    files=['X_train_scaled.npy', 'y_train.npy', 'X_test_scaled.npy', 'y_test.npy'],\n",
    "    target_path='datasets/',\n",
    "    overwrite=True\n",
    ")\n",
    "\n",
    "# Create a Dataset from the uploaded files\n",
    "dataset = Dataset.File.from_files(path=[(datastore, 'datasets/')])\n",
    "print(\"Dataset created\")\n",
    "\n",
    "# Define the environment\n",
    "env = Environment.from_conda_specification(name=\"xgboost\", file_path=\"../environments/xgboost-env.yml\")\n",
    "#env.python.user_managed_dependencies = True \n",
    "\n",
    "# Define the script configuration\n",
    "src = ScriptRunConfig(\n",
    "    source_directory='../scripts',\n",
    "    script='train_xgboost.py',\n",
    "    compute_target=None,\n",
    "    environment=env\n",
    ")\n",
    "\n",
    "# Create and submit the experiment\n",
    "experiment = Experiment(workspace=ws, name='xgboost-training-experiment')\n",
    "run = experiment.submit(src)\n",
    "\n",
    "# Show details and wait for completion\n",
    "RunDetails(run).show()\n",
    "run.wait_for_completion(show_output=True)\n"
   ]
  }
 ],
 "metadata": {
  "kernelspec": {
   "display_name": "env",
   "language": "python",
   "name": "python3"
  },
  "language_info": {
   "codemirror_mode": {
    "name": "ipython",
    "version": 3
   },
   "file_extension": ".py",
   "mimetype": "text/x-python",
   "name": "python",
   "nbconvert_exporter": "python",
   "pygments_lexer": "ipython3",
   "version": "3.8.19"
  }
 },
 "nbformat": 4,
 "nbformat_minor": 2
}
