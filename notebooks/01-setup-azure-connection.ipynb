{
 "cells": [
  {
   "cell_type": "code",
   "execution_count": 1,
   "metadata": {},
   "outputs": [
    {
     "name": "stdout",
     "output_type": "stream",
     "text": [
      "Performing interactive authentication. Please follow the instructions on the terminal.\n"
     ]
    },
    {
     "name": "stderr",
     "output_type": "stream",
     "text": [
      "The default web browser has been opened at https://login.microsoftonline.com/organizations/oauth2/v2.0/authorize. Please continue the login in the web browser. If no web browser is available or if the web browser fails to open, use device code flow with `az login --use-device-code`.\n"
     ]
    },
    {
     "name": "stdout",
     "output_type": "stream",
     "text": [
      "Interactive authentication successfully completed.\n",
      "Conexión exitosa al Azure ML Workspace\n",
      "Nombre del Workspace:  PropertyValueWorkspace\n",
      "Grupo de recursos:  ML-ResourceGroup\n",
      "Ubicación:  spaincentral\n",
      "ID de suscripción:  f9d10474-642c-4f83-9be4-edadd0014fe6\n"
     ]
    }
   ],
   "source": [
    "# Paso 1: Importar las librerías necesarias\n",
    "from azureml.core import Workspace\n",
    "\n",
    "# Paso 2: Conectarse al Workspace de Azure usando el archivo config.json\n",
    "ws = Workspace.from_config()\n",
    "\n",
    "# Paso 3: Verificar la conexión\n",
    "print(\"Conexión exitosa al Azure ML Workspace\")\n",
    "print(\"Nombre del Workspace: \", ws.name)\n",
    "print(\"Grupo de recursos: \", ws.resource_group)\n",
    "print(\"Ubicación: \", ws.location)\n",
    "print(\"ID de suscripción: \", ws.subscription_id)"
   ]
  }
 ],
 "metadata": {
  "kernelspec": {
   "display_name": "env",
   "language": "python",
   "name": "python3"
  },
  "language_info": {
   "codemirror_mode": {
    "name": "ipython",
    "version": 3
   },
   "file_extension": ".py",
   "mimetype": "text/x-python",
   "name": "python",
   "nbconvert_exporter": "python",
   "pygments_lexer": "ipython3",
   "version": "3.8.0"
  }
 },
 "nbformat": 4,
 "nbformat_minor": 2
}
