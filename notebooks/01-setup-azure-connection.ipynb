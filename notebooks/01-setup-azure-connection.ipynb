{
 "cells": [
  {
   "cell_type": "code",
   "execution_count": 2,
   "metadata": {},
   "outputs": [
    {
     "name": "stdout",
     "output_type": "stream",
     "text": [
      "Connected to Azure ML Workspace\n",
      "Name Workspace:  PropertyValueWorkspace\n",
      "Group resources:  ML-ResourceGroup\n",
      "Location:  spaincentral\n",
      "ID suscription:  f9d10474-642c-4f83-9be4-edadd0014fe6\n"
     ]
    }
   ],
   "source": [
    "# Libs\n",
    "from azureml.core import Workspace\n",
    "\n",
    "# Connect to azure using file config.json\n",
    "ws = Workspace.from_config()\n",
    "\n",
    "# Checking Conex\n",
    "print(\"Connected to Azure ML Workspace\")\n",
    "print(\"Name Workspace: \", ws.name)\n",
    "print(\"Group resources: \", ws.resource_group)\n",
    "print(\"Location: \", ws.location)\n",
    "print(\"ID suscription: \", ws.subscription_id)"
   ]
  }
 ],
 "metadata": {
  "kernelspec": {
   "display_name": "env",
   "language": "python",
   "name": "python3"
  },
  "language_info": {
   "codemirror_mode": {
    "name": "ipython",
    "version": 3
   },
   "file_extension": ".py",
   "mimetype": "text/x-python",
   "name": "python",
   "nbconvert_exporter": "python",
   "pygments_lexer": "ipython3",
   "version": "3.8.0"
  }
 },
 "nbformat": 4,
 "nbformat_minor": 2
}
