{
 "cells": [
  {
   "cell_type": "code",
   "execution_count": 12,
   "metadata": {},
   "outputs": [],
   "source": [
    "# Import libs\n",
    "import pandas as pd\n",
    "from sklearn.model_selection import train_test_split\n",
    "from sklearn.preprocessing import StandardScaler\n",
    "import numpy as np\n"
   ]
  },
  {
   "cell_type": "code",
   "execution_count": 13,
   "metadata": {},
   "outputs": [],
   "source": [
    "# Dataset read\n",
    "data = pd.read_csv('../data/AmesHousing.csv')"
   ]
  },
  {
   "cell_type": "code",
   "execution_count": 14,
   "metadata": {},
   "outputs": [],
   "source": [
    "# encoding dataset categorycal to numeric\n",
    "data_encoded = pd.get_dummies(data, drop_first=True)"
   ]
  },
  {
   "cell_type": "code",
   "execution_count": 15,
   "metadata": {},
   "outputs": [
    {
     "name": "stdout",
     "output_type": "stream",
     "text": [
      "Columns with salesprice strong relation (>|0.5|):\n",
      "Index(['Overall Qual', 'Year Built', 'Year Remod/Add', 'Mas Vnr Area',\n",
      "       'Total Bsmt SF', '1st Flr SF', 'Gr Liv Area', 'Full Bath',\n",
      "       'Garage Yr Blt', 'Garage Cars', 'Garage Area', 'SalePrice',\n",
      "       'Exter Qual_TA', 'Foundation_PConc', 'Kitchen Qual_TA'],\n",
      "      dtype='object')\n"
     ]
    }
   ],
   "source": [
    "# Corr Matrix\n",
    "correlation_matrix = data_encoded.corr()\n",
    "\n",
    "# Filter columns related with SalePrice (abs value > 0.5)\n",
    "saleprice_corr = correlation_matrix['SalePrice'].abs()  # using abs to take positive and negative relation\n",
    "significant_corr_columns = saleprice_corr[saleprice_corr > 0.5].index\n",
    "\n",
    "# Columns name with a strong relation (>=0.5)\n",
    "print(\"Columns with salesprice strong relation (>|0.5|):\")\n",
    "print(significant_corr_columns)"
   ]
  },
  {
   "cell_type": "code",
   "execution_count": 16,
   "metadata": {},
   "outputs": [],
   "source": [
    "# Dataframe with encode data\n",
    "features = significant_corr_columns.drop('SalePrice')  # removing 'SalePrice' from features\n",
    "X = data_encoded[features]  # predict variables\n",
    "y = data_encoded['SalePrice']  # target variable\n"
   ]
  },
  {
   "cell_type": "code",
   "execution_count": 20,
   "metadata": {},
   "outputs": [
    {
     "name": "stdout",
     "output_type": "stream",
     "text": [
      "Size of training dataset: (2344, 14)\n",
      "Size of test dataset: (586, 14)\n"
     ]
    }
   ],
   "source": [
    "# Split dataset training (80%) y test (20%)\n",
    "X_train, X_test, y_train, y_test = train_test_split(X, y, test_size=0.2, random_state=42)\n",
    "\n",
    "print(f'Size of training dataset: {X_train.shape}')\n",
    "print(f'Size of test dataset: {X_test.shape}')\n"
   ]
  },
  {
   "cell_type": "code",
   "execution_count": 18,
   "metadata": {},
   "outputs": [],
   "source": [
    "# Init Scaler\n",
    "scaler = StandardScaler()\n",
    "\n",
    "# Setting the scaler to both dataset, training and test\n",
    "X_train_scaled = scaler.fit_transform(X_train)\n",
    "X_test_scaled = scaler.transform(X_test)\n"
   ]
  },
  {
   "cell_type": "code",
   "execution_count": 19,
   "metadata": {},
   "outputs": [],
   "source": [
    "# Saving results\n",
    "np.save('X_train_scaled.npy', X_train_scaled)\n",
    "np.save('X_test_scaled.npy', X_test_scaled)\n",
    "np.save('y_train.npy', y_train)\n",
    "np.save('y_test.npy', y_test)"
   ]
  }
 ],
 "metadata": {
  "kernelspec": {
   "display_name": "env",
   "language": "python",
   "name": "python3"
  },
  "language_info": {
   "codemirror_mode": {
    "name": "ipython",
    "version": 3
   },
   "file_extension": ".py",
   "mimetype": "text/x-python",
   "name": "python",
   "nbconvert_exporter": "python",
   "pygments_lexer": "ipython3",
   "version": "3.8.0"
  }
 },
 "nbformat": 4,
 "nbformat_minor": 2
}
