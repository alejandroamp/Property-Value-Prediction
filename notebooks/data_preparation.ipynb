{
 "cells": [
  {
   "cell_type": "code",
   "execution_count": 42,
   "metadata": {},
   "outputs": [],
   "source": [
    "# Import libs\n",
    "import os\n",
    "import pandas as pd\n",
    "from sklearn.model_selection import train_test_split\n",
    "from sklearn.preprocessing import StandardScaler\n",
    "import numpy as np\n",
    "import matplotlib.pyplot as plt\n"
   ]
  },
  {
   "cell_type": "code",
   "execution_count": 43,
   "metadata": {},
   "outputs": [],
   "source": [
    "# Images folder\n",
    "output_dir = '../images'"
   ]
  },
  {
   "cell_type": "code",
   "execution_count": 44,
   "metadata": {},
   "outputs": [],
   "source": [
    "# Dataset read\n",
    "data = pd.read_csv('../data/AmesHousing.csv')"
   ]
  },
  {
   "cell_type": "code",
   "execution_count": 45,
   "metadata": {},
   "outputs": [],
   "source": [
    "# encoding dataset categorycal to numeric\n",
    "data_encoded = pd.get_dummies(data, drop_first=True)"
   ]
  },
  {
   "cell_type": "code",
   "execution_count": 46,
   "metadata": {},
   "outputs": [
    {
     "name": "stdout",
     "output_type": "stream",
     "text": [
      "Columns with salesprice strong relation (>|0.5|):\n",
      "Index(['Overall Qual', 'Year Built', 'Year Remod/Add', 'Mas Vnr Area',\n",
      "       'Total Bsmt SF', '1st Flr SF', 'Gr Liv Area', 'Full Bath',\n",
      "       'Garage Yr Blt', 'Garage Cars', 'Garage Area', 'SalePrice',\n",
      "       'Exter Qual_TA', 'Foundation_PConc', 'Kitchen Qual_TA'],\n",
      "      dtype='object')\n"
     ]
    }
   ],
   "source": [
    "# Corr Matrix\n",
    "correlation_matrix = data_encoded.corr()\n",
    "\n",
    "# Filter columns related with SalePrice (abs value > 0.5)\n",
    "saleprice_corr = correlation_matrix['SalePrice'].abs()  # using abs to take positive and negative relation\n",
    "significant_corr_columns = saleprice_corr[saleprice_corr > 0.5].index\n",
    "\n",
    "# Columns name with a strong relation (>=0.5)\n",
    "print(\"Columns with salesprice strong relation (>|0.5|):\")\n",
    "print(significant_corr_columns)"
   ]
  },
  {
   "cell_type": "code",
   "execution_count": 47,
   "metadata": {},
   "outputs": [],
   "source": [
    "# Dataframe with encode data\n",
    "features = significant_corr_columns.drop('SalePrice')  # removing 'SalePrice' from features\n",
    "X = data_encoded[features]  # predict variables\n",
    "y = data_encoded['SalePrice']  # target variable\n"
   ]
  },
  {
   "cell_type": "code",
   "execution_count": 55,
   "metadata": {},
   "outputs": [
    {
     "name": "stdout",
     "output_type": "stream",
     "text": [
      "Size of training dataset: (2344, 14)\n",
      "Size of test dataset: (586, 14)\n"
     ]
    }
   ],
   "source": [
    "# Split dataset training (80%) y test (20%)\n",
    "X_train, X_test, y_train, y_test = train_test_split(X, y, test_size=0.2, random_state=42)\n",
    "\n",
    "print(f'Size of training dataset: {X_train.shape}')\n",
    "print(f'Size of test dataset: {X_test.shape}')\n"
   ]
  },
  {
   "cell_type": "code",
   "execution_count": 50,
   "metadata": {},
   "outputs": [],
   "source": [
    "# Init Scaler\n",
    "scaler = StandardScaler()\n",
    "\n",
    "# Setting the scaler to both dataset, training and test\n",
    "X_train_scaled = scaler.fit_transform(X_train)\n",
    "X_test_scaled = scaler.transform(X_test)\n"
   ]
  },
  {
   "cell_type": "code",
   "execution_count": 56,
   "metadata": {},
   "outputs": [
    {
     "name": "stdout",
     "output_type": "stream",
     "text": [
      "Training data NaNs in features: 144\n",
      "Test data NaNs in features: 41\n",
      "Training data NaNs in target: 0\n",
      "Test data NaNs in target: 0\n"
     ]
    }
   ],
   "source": [
    "# Check for NaN values\n",
    "print(\"Training data NaNs in features:\", np.isnan(X_train_scaled).sum())\n",
    "print(\"Test data NaNs in features:\", np.isnan(X_test_scaled).sum())\n",
    "print(\"Training data NaNs in target:\", np.isnan(y_train).sum())\n",
    "print(\"Test data NaNs in target:\", np.isnan(y_test).sum())"
   ]
  },
  {
   "cell_type": "code",
   "execution_count": 57,
   "metadata": {},
   "outputs": [],
   "source": [
    "from sklearn.impute import SimpleImputer\n",
    "\n",
    "# Imputer for numerical values\n",
    "imputer = SimpleImputer(strategy='mean')\n",
    "\n",
    "# Fit and transform the training data\n",
    "X_train_scaled = imputer.fit_transform(X_train_scaled)\n",
    "X_test_scaled = imputer.transform(X_test_scaled)"
   ]
  },
  {
   "cell_type": "code",
   "execution_count": 60,
   "metadata": {},
   "outputs": [],
   "source": [
    "# Saving results\n",
    "np.save('X_train_scaled.npy', X_train_scaled)\n",
    "np.save('X_test_scaled.npy', X_test_scaled)\n",
    "np.save('y_train.npy', y_train)\n",
    "np.save('y_test.npy', y_test)\n",
    "np.save('feature_names.npy', features)"
   ]
  },
  {
   "cell_type": "code",
   "execution_count": 52,
   "metadata": {},
   "outputs": [
    {
     "name": "stdout",
     "output_type": "stream",
     "text": [
      "   Overall Qual  Year Built  Year Remod/Add  Mas Vnr Area  Total Bsmt SF  \\\n",
      "0      0.673941    0.181084       -0.381277      0.525314       0.098466   \n",
      "1     -0.766750   -0.115603       -0.814347     -0.572233      -0.077948   \n",
      "2     -1.487095   -0.280430       -1.054941     -0.572233      -2.398819   \n",
      "3     -1.487095   -0.708978       -1.632368     -0.572233      -2.398819   \n",
      "4     -1.487095   -1.664971       -1.632368     -0.572233      -1.024167   \n",
      "\n",
      "   1st Flr SF  Gr Liv Area  Full Bath  Garage Yr Blt  Garage Cars  \\\n",
      "0    0.558877    -0.243522    0.80217      -0.054465     0.339139   \n",
      "1    0.013468     1.254956    0.80217      -0.405023     0.339139   \n",
      "2    0.179688    -0.532910    0.80217      -0.599778     0.339139   \n",
      "3   -0.298194    -0.897619    0.80217      -0.833483     0.339139   \n",
      "4   -0.139766     0.412558    0.80217            NaN    -2.340801   \n",
      "\n",
      "   Garage Area  Exter Qual_TA  Foundation_PConc  Kitchen Qual_TA  \n",
      "0     0.046712       0.777419         -0.876198         0.956573  \n",
      "1     0.324506       0.777419          1.141295         0.956573  \n",
      "2    -0.033330       0.777419         -0.876198         0.956573  \n",
      "3    -0.231082       0.777419         -0.876198         0.956573  \n",
      "4    -2.208600      -1.286307         -0.876198        -1.045398  \n",
      "   Overall Qual  Year Built  Year Remod/Add  Mas Vnr Area  Total Bsmt SF  \\\n",
      "0      1.394286   -1.500145        0.581101     -0.572233      -1.051660   \n",
      "1     -0.046404    0.049223       -0.573752      1.634476      -1.267022   \n",
      "2      0.673941    1.071146        0.966053      0.531121      -0.575114   \n",
      "3     -1.487095    0.774459        0.532983     -0.572233      -0.130643   \n",
      "4     -0.046404   -1.467179        0.677339     -0.572233      -0.350587   \n",
      "\n",
      "   1st Flr SF  Gr Liv Area  Full Bath  Garage Yr Blt  Garage Cars  \\\n",
      "0   -0.835812     0.343184  -1.009281      -2.040962    -1.000831   \n",
      "1   -1.716258    -0.917440  -1.009281      -0.171317    -1.000831   \n",
      "2   -0.905936     0.458146   0.802170       0.997210     0.339139   \n",
      "3   -0.428054    -0.996725  -1.009281            NaN    -2.340801   \n",
      "4   -0.612454    -1.137455  -1.009281      -2.002011    -1.000831   \n",
      "\n",
      "   Garage Area  Exter Qual_TA  Foundation_PConc  Kitchen Qual_TA  \n",
      "0    -1.135090       0.777419          1.141295        -1.045398  \n",
      "1    -0.965589       0.777419         -0.876198         0.956573  \n",
      "2     0.691760      -1.286307          1.141295        -1.045398  \n",
      "3    -2.208600       0.777419          1.141295         0.956573  \n",
      "4    -1.290467       0.777419         -0.876198         0.956573  \n"
     ]
    }
   ],
   "source": [
    "X_train_scaled_df = pd.DataFrame(X_train_scaled, columns=features)\n",
    "X_test_scaled_df = pd.DataFrame(X_test_scaled, columns=features)\n",
    "\n",
    "print(X_train_scaled_df.head())\n",
    "print(X_test_scaled_df.head())"
   ]
  },
  {
   "cell_type": "code",
   "execution_count": 53,
   "metadata": {},
   "outputs": [
    {
     "data": {
      "image/png": "[encoded data removed]",
      "text/plain": [
       "<Figure size 1400x600 with 2 Axes>"
      ]
     },
     "metadata": {},
     "output_type": "display_data"
    }
   ],
   "source": [
    "# Comparare original and  scaled\n",
    "feature = features[0]\n",
    "\n",
    "plt.figure(figsize=(14, 6))\n",
    "\n",
    "plt.subplot(1, 2, 1)\n",
    "plt.hist(X_train[feature], bins=30, alpha=0.7, color='blue')\n",
    "plt.title(f'Distribution Original of {feature}')\n",
    "plt.xlabel(feature)\n",
    "plt.ylabel('Frequency')\n",
    "\n",
    "plt.subplot(1, 2, 2)\n",
    "plt.hist(X_train_scaled_df[feature], bins=30, alpha=0.7, color='green')\n",
    "plt.title(f'Distribution Escaled of {feature}')\n",
    "plt.xlabel(feature)\n",
    "plt.ylabel('Frequency')\n",
    "plt.savefig(os.path.join(output_dir, 'original_vs_scaled.png'))\n",
    "plt.tight_layout()\n",
    "plt.show()"
   ]
  }
 ],
 "metadata": {
  "kernelspec": {
   "display_name": "env",
   "language": "python",
   "name": "python3"
  },
  "language_info": {
   "codemirror_mode": {
    "name": "ipython",
    "version": 3
   },
   "file_extension": ".py",
   "mimetype": "text/x-python",
   "name": "python",
   "nbconvert_exporter": "python",
   "pygments_lexer": "ipython3",
   "version": "3.8.0"
  }
 },
 "nbformat": 4,
 "nbformat_minor": 2
}
