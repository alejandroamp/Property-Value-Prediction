{
 "cells": [
  {
   "cell_type": "code",
   "execution_count": 1,
   "metadata": {},
   "outputs": [
    {
     "name": "stdout",
     "output_type": "stream",
     "text": [
      "Results saved successfully.\n"
     ]
    }
   ],
   "source": [
    "import pandas as pd\n",
    "import matplotlib.pyplot as plt\n",
    "\n",
    "# Save metrics\n",
    "results = {\n",
    "    'Model': ['Linear Regression', 'Ridge Regression', 'Random Forest', 'XGBoost'],\n",
    "    'Training MSE': [1216803718.3684738, 1216804163.1211984, 121079468.96872883, 373442606.6232211],\n",
    "    'Training R^2': [0.7953486216775962, 0.7953485468756732, 0.9796359266191103, 0.9371915593155591],\n",
    "    'Test MSE': [1441441549.700708, 1441444275.2463033, 1018289709.7609797, 808915168.324281],\n",
    "    'Test R^2': [0.8202141649638376, 0.8202138250163101, 0.8729923764053273, 0.899106912076459]\n",
    "}\n",
    "\n",
    "results_df = pd.DataFrame(results)\n",
    "results_df.to_csv('model_evaluation_results.csv', index=False)\n",
    "\n",
    "print(\"Results saved successfully.\")"
   ]
  }
 ],
 "metadata": {
  "kernelspec": {
   "display_name": "env",
   "language": "python",
   "name": "python3"
  },
  "language_info": {
   "codemirror_mode": {
    "name": "ipython",
    "version": 3
   },
   "file_extension": ".py",
   "mimetype": "text/x-python",
   "name": "python",
   "nbconvert_exporter": "python",
   "pygments_lexer": "ipython3",
   "version": "3.8.0"
  }
 },
 "nbformat": 4,
 "nbformat_minor": 2
}
